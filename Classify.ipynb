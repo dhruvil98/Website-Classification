{
  "nbformat": 4,
  "nbformat_minor": 0,
  "metadata": {
    "colab": {
      "name": "IA-3.ipynb",
      "provenance": [],
      "collapsed_sections": [],
      "machine_shape": "hm"
    },
    "kernelspec": {
      "name": "python3",
      "display_name": "Python 3"
    }
  },
  "cells": [
    {
      "cell_type": "markdown",
      "metadata": {
        "id": "2IwaEm3JDBr0",
        "colab_type": "text"
      },
      "source": [
        "\n",
        "\n",
        "\n",
        "> **URL Classification**\n",
        "\n",
        "\n"
      ]
    },
    {
      "cell_type": "markdown",
      "metadata": {
        "id": "XE21GLodDVZh",
        "colab_type": "text"
      },
      "source": [
        "**Problem Statement**"
      ]
    },
    {
      "cell_type": "markdown",
      "metadata": {
        "colab_type": "text",
        "id": "tFij55mlE74e"
      },
      "source": [
        "Web page classification has become a challenging task due to the exponential growth of the World Wide Web. As a result, high accuracy may not be achievable as URL contains minimal information. Further, noisy and irrelevant features present in URL demand feature selection methods for URL classification. Therefore, a technique will be robust to irrelevant features and will generalize the classification for wide range of websites.\n"
      ]
    },
    {
      "cell_type": "markdown",
      "metadata": {
        "id": "lrjBjvBlWXSG",
        "colab_type": "text"
      },
      "source": [
        "Imports"
      ]
    },
    {
      "cell_type": "code",
      "metadata": {
        "id": "hgrlAcCpWLcy",
        "colab_type": "code",
        "colab": {}
      },
      "source": [
        "import pandas as pd\n",
        "import numpy as np\n",
        "import matplotlib.pyplot as plt\n",
        "import re\n",
        "import nltk\n",
        "nltk.download('stopwords')\n",
        "from nltk.corpus import stopwords\n",
        "from nltk.stem.porter import PorterStemmer\n",
        "from sklearn.feature_extraction.text import CountVectorizer, TfidfVectorizer\n",
        "from sklearn.model_selection import train_test_split\n",
        "from sklearn import metrics\n",
        "from collections import Counter\n",
        "from tqdm import tqdm\n",
        "from random import random, choices, shuffle, randint\n",
        "from keras import Sequential\n",
        "from keras.layers import Dense"
      ],
      "execution_count": 0,
      "outputs": []
    },
    {
      "cell_type": "markdown",
      "metadata": {
        "id": "mfTqQy8hekdD",
        "colab_type": "text"
      },
      "source": [
        "\n",
        "Mounting to Google Drive"
      ]
    },
    {
      "cell_type": "code",
      "metadata": {
        "id": "Z4h0iWtGd7Fs",
        "colab_type": "code",
        "outputId": "ef5003ef-6c0e-441a-9149-47505aca8969",
        "colab": {
          "base_uri": "https://localhost:8080/",
          "height": 122
        }
      },
      "source": [
        "from google.colab import drive\n",
        "drive.mount('/content/gdrive')"
      ],
      "execution_count": 0,
      "outputs": [
        {
          "output_type": "stream",
          "text": [
            "Go to this URL in a browser: https://accounts.google.com/o/oauth2/auth?client_id=947318989803-6bn6qk8qdgf4n4g3pfee6491hc0brc4i.apps.googleusercontent.com&redirect_uri=urn%3Aietf%3Awg%3Aoauth%3A2.0%3Aoob&scope=email%20https%3A%2F%2Fwww.googleapis.com%2Fauth%2Fdocs.test%20https%3A%2F%2Fwww.googleapis.com%2Fauth%2Fdrive%20https%3A%2F%2Fwww.googleapis.com%2Fauth%2Fdrive.photos.readonly%20https%3A%2F%2Fwww.googleapis.com%2Fauth%2Fpeopleapi.readonly&response_type=code\n",
            "\n",
            "Enter your authorization code:\n",
            "··········\n",
            "Mounted at /content/gdrive\n"
          ],
          "name": "stdout"
        }
      ]
    },
    {
      "cell_type": "markdown",
      "metadata": {
        "id": "A77-V9Mpe_GQ",
        "colab_type": "text"
      },
      "source": [
        "Changing the Directory\n"
      ]
    },
    {
      "cell_type": "code",
      "metadata": {
        "id": "z28ARHmwep7a",
        "colab_type": "code",
        "outputId": "7b248f03-2078-4ebf-c3f6-fbeb8eff787d",
        "colab": {
          "base_uri": "https://localhost:8080/",
          "height": 34
        }
      },
      "source": [
        "cd gdrive/\"My Drive\"/LY/DWM/IA2"
      ],
      "execution_count": 0,
      "outputs": [
        {
          "output_type": "stream",
          "text": [
            "/content/gdrive/My Drive/LY/DWM/IA2\n"
          ],
          "name": "stdout"
        }
      ]
    },
    {
      "cell_type": "markdown",
      "metadata": {
        "id": "3UCycsa2PUgF",
        "colab_type": "text"
      },
      "source": [
        "Loading the Dataset"
      ]
    },
    {
      "cell_type": "code",
      "metadata": {
        "id": "socrm-v1PS9U",
        "colab_type": "code",
        "colab": {}
      },
      "source": [
        "names = [\"Category\",\"Title\",\"Description\"]\n",
        "dataset = pd.read_csv(\"dataset.csv\",names=names, na_filter=False)[1:]     "
      ],
      "execution_count": 0,
      "outputs": []
    },
    {
      "cell_type": "markdown",
      "metadata": {
        "id": "l0IqyrV9e0TG",
        "colab_type": "text"
      },
      "source": [
        "**Preprocessing**"
      ]
    },
    {
      "cell_type": "markdown",
      "metadata": {
        "id": "pMxv5Fn8hNuX",
        "colab_type": "text"
      },
      "source": [
        "Histogram of Categories"
      ]
    },
    {
      "cell_type": "code",
      "metadata": {
        "id": "SQZBFexzPuJo",
        "colab_type": "code",
        "outputId": "11c1c1fe-0e12-40ad-d85a-1f8a53843e36",
        "colab": {
          "base_uri": "https://localhost:8080/",
          "height": 395
        }
      },
      "source": [
        "dataset.Category.value_counts().plot(figsize=(12,5),kind='bar',color='green');\n",
        "plt.xlabel('Category')\n",
        "plt.ylabel('Total Number Of Individual Category for Training')"
      ],
      "execution_count": 0,
      "outputs": [
        {
          "output_type": "execute_result",
          "data": {
            "text/plain": [
              "Text(0, 0.5, 'Total Number Of Individual Category for Training')"
            ]
          },
          "metadata": {
            "tags": []
          },
          "execution_count": 5
        },
        {
          "output_type": "display_data",
          "data": {
            "image/png": "[encoded data removed]",
            "text/plain": [
              "<Figure size 864x360 with 1 Axes>"
            ]
          },
          "metadata": {
            "tags": []
          }
        }
      ]
    },
    {
      "cell_type": "markdown",
      "metadata": {
        "id": "T3HgxcOdfKXG",
        "colab_type": "text"
      },
      "source": [
        "Removing all the unnecessary characters, converting the words to root form and converting them Vector form"
      ]
    },
    {
      "cell_type": "code",
      "metadata": {
        "id": "_Fz4nhngRRYl",
        "colab_type": "code",
        "outputId": "db2da01e-ccf3-4b61-ed09-af5237b8ef6c",
        "colab": {
          "base_uri": "https://localhost:8080/",
          "height": 34
        }
      },
      "source": [
        "#Getting input and output from the dataframe and converting them to list\n",
        "X = dataset[names[1:]].values.tolist()\n",
        "Y = dataset[names[0]].values.tolist()\n",
        "\n",
        "X1 = dataset[names[1:]].values.tolist()\n",
        "Y1 = dataset[names[0]].values.tolist()\n",
        "\n",
        "\n",
        "#Storing all preprocessing data\n",
        "corpus = []\n",
        "\n",
        "\n",
        "for i in tqdm(range(len(dataset)), position=0, leave=True):\n",
        "\n",
        "    #Removing all non-alphabetical characters\n",
        "    review = re.sub('[^a-zA-Z]', ' ', X[i][0]+\" \"+X[i][1])\n",
        "\n",
        "    #Converting to lower case\n",
        "    review = review.lower()\n",
        "\n",
        "    #Splitting the words\n",
        "    review = review.split()\n",
        "\n",
        "    #Converting all the words to their root form\n",
        "    ps = PorterStemmer()\n",
        "    review = [ps.stem(word) for word in review if not word in set(stopwords.words('english'))]\n",
        "\n",
        "    #Joining the words again\n",
        "    review = ' '.join(review)\n",
        "    corpus.append(review)\n",
        "\n",
        "\n",
        "#Vectorizing the input\n",
        "cv_x = CountVectorizer(max_features=25000)\n",
        "X = np.array(cv_x.fit_transform(corpus).toarray())\n",
        "X_feature_names = cv_x.get_feature_names()\n",
        "\n",
        "#Vectorizing the output\n",
        "cv_y = CountVectorizer()\n",
        "Y = np.array(cv_y.fit_transform(Y).toarray())\n",
        "Y_feature_names = cv_y.get_feature_names()"
      ],
      "execution_count": 0,
      "outputs": [
        {
          "output_type": "stream",
          "text": [
            "100%|██████████| 30550/30550 [01:30<00:00, 336.88it/s]\n"
          ],
          "name": "stderr"
        }
      ]
    },
    {
      "cell_type": "markdown",
      "metadata": {
        "id": "6BwCYGkfe4FF",
        "colab_type": "text"
      },
      "source": [
        "Train-Test split"
      ]
    },
    {
      "cell_type": "code",
      "metadata": {
        "id": "hVR-SdPyVrsC",
        "colab_type": "code",
        "colab": {}
      },
      "source": [
        "#80-20 Train Test split\n",
        "X_train, X_test, Y_train, Y_test = train_test_split(X, Y, test_size = 0.20)"
      ],
      "execution_count": 0,
      "outputs": []
    },
    {
      "cell_type": "markdown",
      "metadata": {
        "id": "hjQeyIKUWISV",
        "colab_type": "text"
      },
      "source": [
        "**Training**"
      ]
    },
    {
      "cell_type": "markdown",
      "metadata": {
        "id": "onN22BhDWVxr",
        "colab_type": "text"
      },
      "source": [
        "Initializing the model"
      ]
    },
    {
      "cell_type": "code",
      "metadata": {
        "id": "g89DHDDAWLnl",
        "colab_type": "code",
        "outputId": "51c26c0a-e7f3-4ca3-d84a-83503fadf26a",
        "colab": {
          "base_uri": "https://localhost:8080/",
          "height": 139
        }
      },
      "source": [
        "model=Sequential()\n",
        "model.add(Dense(50,input_shape=(len(X_feature_names),),activation=\"relu\"))\n",
        "model.add(Dense(20,activation=\"relu\"))\n",
        "model.add(Dense(len(Y_feature_names),activation=\"softmax\"))"
      ],
      "execution_count": 0,
      "outputs": [
        {
          "output_type": "stream",
          "text": [
            "WARNING:tensorflow:From /usr/local/lib/python3.6/dist-packages/keras/backend/tensorflow_backend.py:66: The name tf.get_default_graph is deprecated. Please use tf.compat.v1.get_default_graph instead.\n",
            "\n",
            "WARNING:tensorflow:From /usr/local/lib/python3.6/dist-packages/keras/backend/tensorflow_backend.py:541: The name tf.placeholder is deprecated. Please use tf.compat.v1.placeholder instead.\n",
            "\n",
            "WARNING:tensorflow:From /usr/local/lib/python3.6/dist-packages/keras/backend/tensorflow_backend.py:4432: The name tf.random_uniform is deprecated. Please use tf.random.uniform instead.\n",
            "\n"
          ],
          "name": "stdout"
        }
      ]
    },
    {
      "cell_type": "markdown",
      "metadata": {
        "id": "EpZ-SH0kWZ5s",
        "colab_type": "text"
      },
      "source": [
        "Compiling and Training"
      ]
    },
    {
      "cell_type": "code",
      "metadata": {
        "id": "envkAQoWWSpl",
        "colab_type": "code",
        "outputId": "f28b8992-beb0-4027-8923-d1ade3cdbfbc",
        "colab": {
          "base_uri": "https://localhost:8080/",
          "height": 615
        }
      },
      "source": [
        "model.compile(loss='binary_crossentropy', optimizer='adam', metrics=['accuracy'])\n",
        "model.fit(X_train, Y_train, epochs=5, batch_size=50)"
      ],
      "execution_count": 0,
      "outputs": [
        {
          "output_type": "stream",
          "text": [
            "WARNING:tensorflow:From /usr/local/lib/python3.6/dist-packages/keras/optimizers.py:793: The name tf.train.Optimizer is deprecated. Please use tf.compat.v1.train.Optimizer instead.\n",
            "\n",
            "WARNING:tensorflow:From /usr/local/lib/python3.6/dist-packages/keras/backend/tensorflow_backend.py:3657: The name tf.log is deprecated. Please use tf.math.log instead.\n",
            "\n",
            "WARNING:tensorflow:From /usr/local/lib/python3.6/dist-packages/tensorflow_core/python/ops/nn_impl.py:183: where (from tensorflow.python.ops.array_ops) is deprecated and will be removed in a future version.\n",
            "Instructions for updating:\n",
            "Use tf.where in 2.0, which has the same broadcast rule as np.where\n",
            "WARNING:tensorflow:From /usr/local/lib/python3.6/dist-packages/keras/backend/tensorflow_backend.py:1033: The name tf.assign_add is deprecated. Please use tf.compat.v1.assign_add instead.\n",
            "\n",
            "WARNING:tensorflow:From /usr/local/lib/python3.6/dist-packages/keras/backend/tensorflow_backend.py:1020: The name tf.assign is deprecated. Please use tf.compat.v1.assign instead.\n",
            "\n",
            "WARNING:tensorflow:From /usr/local/lib/python3.6/dist-packages/keras/backend/tensorflow_backend.py:3005: The name tf.Session is deprecated. Please use tf.compat.v1.Session instead.\n",
            "\n",
            "Epoch 1/5\n",
            "WARNING:tensorflow:From /usr/local/lib/python3.6/dist-packages/keras/backend/tensorflow_backend.py:190: The name tf.get_default_session is deprecated. Please use tf.compat.v1.get_default_session instead.\n",
            "\n",
            "WARNING:tensorflow:From /usr/local/lib/python3.6/dist-packages/keras/backend/tensorflow_backend.py:197: The name tf.ConfigProto is deprecated. Please use tf.compat.v1.ConfigProto instead.\n",
            "\n",
            "WARNING:tensorflow:From /usr/local/lib/python3.6/dist-packages/keras/backend/tensorflow_backend.py:207: The name tf.global_variables is deprecated. Please use tf.compat.v1.global_variables instead.\n",
            "\n",
            "WARNING:tensorflow:From /usr/local/lib/python3.6/dist-packages/keras/backend/tensorflow_backend.py:216: The name tf.is_variable_initialized is deprecated. Please use tf.compat.v1.is_variable_initialized instead.\n",
            "\n",
            "WARNING:tensorflow:From /usr/local/lib/python3.6/dist-packages/keras/backend/tensorflow_backend.py:223: The name tf.variables_initializer is deprecated. Please use tf.compat.v1.variables_initializer instead.\n",
            "\n",
            "24440/24440 [==============================] - 27s 1ms/step - loss: 0.1336 - acc: 0.9557\n",
            "Epoch 2/5\n",
            "24440/24440 [==============================] - 15s 610us/step - loss: 0.0356 - acc: 0.9889\n",
            "Epoch 3/5\n",
            "24440/24440 [==============================] - 14s 567us/step - loss: 0.0146 - acc: 0.9961\n",
            "Epoch 4/5\n",
            "24440/24440 [==============================] - 14s 556us/step - loss: 0.0067 - acc: 0.9985\n",
            "Epoch 5/5\n",
            "24440/24440 [==============================] - 14s 568us/step - loss: 0.0033 - acc: 0.9994\n"
          ],
          "name": "stdout"
        },
        {
          "output_type": "execute_result",
          "data": {
            "text/plain": [
              "<keras.callbacks.History at 0x7ff9edf3c710>"
            ]
          },
          "metadata": {
            "tags": []
          },
          "execution_count": 9
        }
      ]
    },
    {
      "cell_type": "markdown",
      "metadata": {
        "id": "81oAYgzpXkI-",
        "colab_type": "text"
      },
      "source": [
        "**Testing**"
      ]
    },
    {
      "cell_type": "code",
      "metadata": {
        "id": "XHKKZVxGay26",
        "colab_type": "code",
        "colab": {}
      },
      "source": [
        "prediction = model.predict(X_test)\n",
        "y_test = np.argmax(Y_test,axis=1)\n",
        "y_pred = np.argmax(prediction,axis=1)"
      ],
      "execution_count": 0,
      "outputs": []
    },
    {
      "cell_type": "markdown",
      "metadata": {
        "id": "WYguMePkXJmu",
        "colab_type": "text"
      },
      "source": [
        "Accuracy Check"
      ]
    },
    {
      "cell_type": "code",
      "metadata": {
        "id": "vcibvWgYa0Au",
        "colab_type": "code",
        "outputId": "1ee45500-34da-4a6e-ef2e-aa0e95cba32b",
        "colab": {
          "base_uri": "https://localhost:8080/",
          "height": 34
        }
      },
      "source": [
        "accuracy = metrics.accuracy_score(y_test, y_pred)\n",
        "print(accuracy*100)"
      ],
      "execution_count": 0,
      "outputs": [
        {
          "output_type": "stream",
          "text": [
            "86.07201309328968\n"
          ],
          "name": "stdout"
        }
      ]
    },
    {
      "cell_type": "markdown",
      "metadata": {
        "id": "b_27aJj_bTMG",
        "colab_type": "text"
      },
      "source": [
        "Confusion Matrix"
      ]
    },
    {
      "cell_type": "code",
      "metadata": {
        "id": "DtlN1hhiWkec",
        "colab_type": "code",
        "outputId": "0a8d89b4-258b-4ec3-a263-95f6e0b92cce",
        "colab": {
          "base_uri": "https://localhost:8080/",
          "height": 272
        }
      },
      "source": [
        "confusion_matrix = metrics.confusion_matrix(y_test, y_pred)\n",
        "print(np.unique(dataset[names[0]].values.tolist()))\n",
        "print(confusion_matrix)"
      ],
      "execution_count": 0,
      "outputs": [
        {
          "output_type": "stream",
          "text": [
            "['Arts' 'Business' 'Computers' 'Games' 'Health' 'Home' 'News' 'Recreation'\n",
            " 'Reference' 'Science' 'Shopping' 'Society' 'Sports']\n",
            "[[264   1   6   5   2   3   2   2   1   0   2   5   4]\n",
            " [  1 400   7   0   2   4   1   2   3  26   9   5   1]\n",
            " [  1   8 427   2   2   3   8   1  14  13   3   5   2]\n",
            " [  3   6   5 333   1   2   2   4   8   3   6   0   8]\n",
            " [  2   0   2   3 543   1   6   1   9   7   1  18   0]\n",
            " [  1   5   1   4   8 370   1  10   6  11   9  19   1]\n",
            " [  2   3   9   0   3   3 332   6   7   6   2  23   2]\n",
            " [  1   0   5   6   3  18   7 404   4   3  26   3   2]\n",
            " [  0   1  20   1   6   7   9   3 288  11   4  11   0]\n",
            " [  0  18  17   3   5   8   5   6  10 526   1  11   0]\n",
            " [  5   1   3   7   2  10   4  18   4   1 569   5   1]\n",
            " [  4   8   8   1  22  14  15  14  16  10   6 503   5]\n",
            " [  2   0   3   8   2   0   4   5   0   1   3   8 300]]\n"
          ],
          "name": "stdout"
        }
      ]
    },
    {
      "cell_type": "markdown",
      "metadata": {
        "id": "dozOyK_xXfsV",
        "colab_type": "text"
      },
      "source": [
        "**Demo**"
      ]
    },
    {
      "cell_type": "code",
      "metadata": {
        "id": "H4HG7QsrXhBk",
        "colab_type": "code",
        "outputId": "805f15f1-1eb7-4b95-d820-1f7f3cf1c180",
        "colab": {
          "base_uri": "https://localhost:8080/",
          "height": 170
        }
      },
      "source": [
        "n = randint(0,len(X)-1)\n",
        "print(\"Input:-\")\n",
        "print(\"Title, Description\")\n",
        "print(X1[n])\n",
        "prediction = np.argmax(model.predict(np.array([X[n]])), axis=1)[0]\n",
        "print(\"\")\n",
        "print(\"Prediction:-\")\n",
        "print(Y_feature_names[prediction])\n",
        "print(\"\")\n",
        "print(\"Actual:-\")\n",
        "print(Y1[n])\n"
      ],
      "execution_count": 0,
      "outputs": [
        {
          "output_type": "stream",
          "text": [
            "Input:-\n",
            "Title, Description\n",
            "['Euchre', 'Books, links, decks, software and online play information.']\n",
            "\n",
            "Prediction:-\n",
            "games\n",
            "\n",
            "Actual:-\n",
            "Games\n"
          ],
          "name": "stdout"
        }
      ]
    },
    {
      "cell_type": "code",
      "metadata": {
        "id": "Q-63X_rf4gxI",
        "colab_type": "code",
        "outputId": "0619b244-3f94-4a49-b0ca-d5e26f638771",
        "colab": {
          "base_uri": "https://localhost:8080/",
          "height": 136
        }
      },
      "source": [
        "def get(X,X_feature_names):\n",
        "  corpus = []\n",
        "\n",
        "\n",
        "\n",
        "  #Removing all non-alphabetical characters\n",
        "  review = re.sub('[^a-zA-Z]', ' ', X[0]+\" \"+X[1])\n",
        "  #Converting to lower case\n",
        "  review = review.lower()\n",
        "\n",
        "  #Splitting the words\n",
        "  review = review.split()\n",
        "\n",
        "  #Converting all the words to their root form\n",
        "  ps = PorterStemmer()\n",
        "  review = [ps.stem(word) for word in review if not word in set(stopwords.words('english'))]\n",
        "\n",
        "  #Joining the words again\n",
        "  review = ' '.join(review)\n",
        "  corpus.append(review)\n",
        "  corpus = list(corpus[0].split())\n",
        "\n",
        "  X = [0 for i in range(len(X_feature_names))]\n",
        "  for i in range(len(corpus)):\n",
        "    if corpus[i] in X_feature_names:\n",
        "      X[X_feature_names.index(corpus[i])]+=1\n",
        "  \n",
        "\n",
        "  \n",
        "  return np.array([X])\n",
        "\n",
        "\n",
        "print(\"Enter Input:-\")\n",
        "print(\"Title, Description\")\n",
        "title = input()\n",
        "description = input()\n",
        "prediction = np.argmax(model.predict(get([title,description],X_feature_names)), axis=1)[0]\n",
        "print(\"\")\n",
        "print(\"Prediction:-\")\n",
        "print(Y_feature_names[prediction])\n"
      ],
      "execution_count": 0,
      "outputs": [
        {
          "output_type": "stream",
          "text": [
            "Enter Input:-\n",
            "Title, Description\n",
            "Cold diagnosis method\n",
            "This paper for fever, cancer, health related problems\n",
            "\n",
            "Prediction:-\n",
            "health\n"
          ],
          "name": "stdout"
        }
      ]
    }
  ]
}